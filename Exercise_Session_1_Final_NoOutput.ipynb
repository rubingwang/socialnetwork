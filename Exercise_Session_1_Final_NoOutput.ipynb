{
  "nbformat": 4,
  "nbformat_minor": 0,
  "metadata": {
    "colab": {
      "name": "Exercise_Session_1_Final (1).ipynb",
      "provenance": [],
      "collapsed_sections": []
    },
    "kernelspec": {
      "name": "python3",
      "display_name": "Python 3"
    },
    "language_info": {
      "name": "python"
    }
  },
  "cells": [
    {
      "cell_type": "code",
      "metadata": {
        "id": "nck7l4Qqd_XH"
      },
      "source": [
        "!pip install python-igraph\n",
        "!pip install matplotlib\n",
        "!pip install numpy\n",
        "!pip install scipy\n",
        "!pip install easygui\n",
        "!pip install cairocffi"
      ],
      "execution_count": null,
      "outputs": []
    },
    {
      "cell_type": "code",
      "metadata": {
        "id": "-PnADYfVeSPW"
      },
      "source": [
        "# Import of required libraries and packages\n",
        "import igraph as ig\n",
        "import easygui\n",
        "from matplotlib import pyplot as plt\n",
        "import numpy as np\n",
        "import scipy\n",
        "import statistics\n",
        "import pandas as pd\n",
        "print(ig.__version__)\n",
        "\n",
        "#Creating and empty Graph object\n",
        "graph = ig.Graph()"
      ],
      "execution_count": null,
      "outputs": []
    },
    {
      "cell_type": "code",
      "metadata": {
        "id": "HQ9o2jUTgBXB"
      },
      "source": [
        "# Load the data and create a network\n",
        "# Data is in Pajek-format\n",
        "air = ig.read('USAir97.net',format='pajek')\n",
        "air.summary()"
      ],
      "execution_count": null,
      "outputs": []
    },
    {
      "cell_type": "code",
      "metadata": {
        "id": "_UvtC3wW6Ceh"
      },
      "source": [
        "# Calculate, plot and analyse centrality measures and network properties\n",
        "\n",
        "degree = air.degree()\n",
        "betw = air.betweenness()\n",
        "apl = air.average_path_length()\n",
        "cls = air.closeness\n",
        "pgrnk = air.pagerank()\n",
        "clcof = air.transitivity_undirected()\n"
      ],
      "execution_count": null,
      "outputs": []
    },
    {
      "cell_type": "code",
      "metadata": {
        "id": "yQV-5-VV5W5C"
      },
      "source": [
        "# Simple Histogram of degree distribution\n",
        "plt.hist(degree, bins=10)\n",
        "plt.plot"
      ],
      "execution_count": null,
      "outputs": []
    },
    {
      "cell_type": "code",
      "metadata": {
        "id": "K95Vbtl-4Gmv"
      },
      "source": [
        "# More advanced plot of the degree distribtion by using the probability density\n",
        "from scipy.stats.kde import gaussian_kde\n",
        "from numpy import linspace\n",
        "\n",
        "# Estimation of the probability denstity function using a kernel-density estimation using Gaussian kernel \n",
        "kde = gaussian_kde(degree)\n",
        "# these are the values over wich your kernel will be evaluated\n",
        "dist_space = linspace( min(degree), max(degree), 100 )\n",
        "# plot the results\n",
        "plt.plot( dist_space, kde(dist_space) )"
      ],
      "execution_count": null,
      "outputs": []
    },
    {
      "cell_type": "code",
      "metadata": {
        "id": "aotebHFt7t63"
      },
      "source": [
        "# More advanced plot of the betweenness distribtion by using the probability density\n",
        "from scipy.stats.kde import gaussian_kde\n",
        "from numpy import linspace\n",
        "\n",
        "# Estimation of the probability denstity function using a kernel-density estimation using Gaussian kernel \n",
        "kde = gaussian_kde(betw)\n",
        "# these are the values over wich your kernel will be evaluated\n",
        "dist_space = linspace( min(betw), max(betw), 100 )\n",
        "# plot the results\n",
        "plt.plot( dist_space, kde(dist_space) )"
      ],
      "execution_count": null,
      "outputs": []
    },
    {
      "cell_type": "code",
      "metadata": {
        "id": "f2aYDtnp9BXq"
      },
      "source": [
        "# Calculation of Spearman Rank Correlations (variables are very skewed)\n",
        "from scipy.stats import spearmanr\n",
        "cor_db=spearmanr(degree, betw )[0]\n",
        "cor_dp=spearmanr(degree, pgrnk )[0]\n",
        "cor_bp=spearmanr(betw, pgrnk )[0]\n",
        "\n",
        "print(\"Spearman correlation between degree and betweenness = {:.2f}\".format(cor_db))\n",
        "print(\"Spearman correlation between degree and page rank = {:.2f}\".format(cor_dp))\n",
        "print(\"Spearman correlation between betweenness and page rank = {:.2f}\".format(cor_bp))"
      ],
      "execution_count": null,
      "outputs": []
    },
    {
      "cell_type": "code",
      "metadata": {
        "id": "fXign800ABC0"
      },
      "source": [
        "# Create a subgraph of nodes with a degree at least equal to the average degree\n",
        "avg_degree = np.mean (degree)\n",
        "print(avg_degree)\n",
        "\n",
        "# Convert list of node degree to an np.array \n",
        "# This allows the use of functions from numpy\n",
        "np_degree = np.array(degree)\n",
        "\n",
        "np_degree = np.where(np_degree>=avg_degree)\n",
        "print(\"Number of nodes with degree equal to or greater than the average degree: % 2d\" %(len(np_degree[0])))\n",
        "\n",
        "#Create subgraph using IDs of nodes to be retained\n",
        "red_air = air.subgraph(np_degree[0])\n",
        "print(\"Number of nodes in subgraph: % 2d\" %(len(red_air.vs())))"
      ],
      "execution_count": null,
      "outputs": []
    },
    {
      "cell_type": "code",
      "metadata": {
        "id": "SNFnFmEjBWfQ"
      },
      "source": [
        "\n",
        "# Create plot using Fruchterman-Rheingold\n",
        "layout_fr = air.layout(\"fr\")\n",
        "\n",
        "visual_style = {}\n",
        "visual_style[\"vertex_size\"] = 5\n",
        "visual_style[\"vertex_label_size\"]=5\n",
        "visual_style[\"vertex_color\"] = \"blue\"\n",
        "visual_style[\"vertex_label\"] = air.vs[\"name\"]\n",
        "visual_style[\"layout\"] = layout_fr\n",
        "visual_style[\"edge_width\"]=0.5\n",
        "visual_style[\"bbox\"] = (600, 600)\n",
        "visual_style[\"margin\"] = 20\n",
        "\n",
        "ig.plot(air, **visual_style)"
      ],
      "execution_count": null,
      "outputs": []
    },
    {
      "cell_type": "code",
      "metadata": {
        "id": "L_pAV2UzCYIX"
      },
      "source": [
        "sp = air.get_shortest_paths(v='Sheppard Afb/Wichita Falls Mun', to='West Tinian')\n",
        "sp"
      ],
      "execution_count": null,
      "outputs": []
    },
    {
      "cell_type": "code",
      "metadata": {
        "id": "3QeAu4xZCww8"
      },
      "source": [
        "air.vs['color']='blue'\n",
        "for i in sp: \n",
        "  air.vs[i]['color']='yellow'\n",
        "\n",
        "visual_style[\"vertex_color\"] = air.vs['color']\n",
        "\n",
        "ig.plot(air, **visual_style)"
      ],
      "execution_count": null,
      "outputs": []
    }
  ]
}